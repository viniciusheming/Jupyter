{
  "metadata": {
    "kernelspec": {
      "name": "python",
      "display_name": "Python (Pyodide)",
      "language": "python"
    },
    "language_info": {
      "codemirror_mode": {
        "name": "python",
        "version": 3
      },
      "file_extension": ".py",
      "mimetype": "text/x-python",
      "name": "python",
      "nbconvert_exporter": "python",
      "pygments_lexer": "ipython3",
      "version": "3.8"
    }
  },
  "nbformat_minor": 4,
  "nbformat": 4,
  "cells": [
    {
      "cell_type": "markdown",
      "source": "Explorando o Ecossistema de Ciência de Dados",
      "metadata": {}
    },
    {
      "cell_type": "markdown",
      "source": "Neste notebook, as ferramentas e o ecossistema de ciência de dados são resumidos.",
      "metadata": {}
    },
    {
      "cell_type": "markdown",
      "source": "**Algumas das linguagens populares que os cientistas de dados utilizam são:**\n\n1. Python\n2. R\n3. SQL",
      "metadata": {}
    },
    {
      "cell_type": "markdown",
      "source": "**Algumas das bibliotecas mais usadas por cientistas de dados incluem:**\n\n1. Pandas\n2. NumPy\n3. Matplotlib",
      "metadata": {}
    },
    {
      "cell_type": "markdown",
      "source": "| Ferramentas de Ciência de Dados |\n|---------------------------------|\n| Jupyter Notebook                |\n| RStudio                         |\n| Apache Spark                    |",
      "metadata": {}
    },
    {
      "cell_type": "markdown",
      "source": "**Abaixo estão alguns exemplos de avaliação de expressões aritméticas em Python:**\n\n- Soma: `2 + 3 = 5`\n- Subtração: `7 - 4 = 3`\n- Multiplicação: `3 * 4 = 12`\n- Divisão: `8 / 2 = 4`",
      "metadata": {}
    },
    {
      "cell_type": "markdown",
      "source": "**Esta é uma expressão aritmética simples para multiplicar e, em seguida, somar inteiros**\n\n(3 * 4) + 5",
      "metadata": {}
    },
    {
      "cell_type": "markdown",
      "source": "**Esta expressão converte minutos em horas dividindo por 60**\n\nminutos = 200\nhoras = minutos / 60\nhoras",
      "metadata": {}
    },
    {
      "cell_type": "markdown",
      "source": "**Objetivos:**\n\n- Listar as linguagens populares para ciência de dados\n- Apresentar as bibliotecas mais utilizadas\n- Demonstrar ferramentas de desenvolvimento\n- Mostrar exemplos de operações aritméticas\n- Compartilhar o notebook no GitHub",
      "metadata": {}
    },
    {
      "cell_type": "markdown",
      "source": "## Autor\nVinicius Heming de Oliveira",
      "metadata": {}
    },
    {
      "cell_type": "code",
      "source": "",
      "metadata": {
        "trusted": true
      },
      "outputs": [],
      "execution_count": null
    }
  ]
}